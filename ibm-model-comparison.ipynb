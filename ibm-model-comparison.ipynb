{
 "cells": [
  {
   "cell_type": "code",
   "execution_count": 12,
   "metadata": {},
   "outputs": [
    {
     "name": "stdout",
     "output_type": "stream",
     "text": [
      "Requirement already satisfied: imblearn in /Users/yijunshen/opt/anaconda3/lib/python3.9/site-packages (0.0)\n",
      "Requirement already satisfied: imbalanced-learn in /Users/yijunshen/opt/anaconda3/lib/python3.9/site-packages (from imblearn) (0.9.1)\n",
      "Requirement already satisfied: joblib>=1.0.0 in /Users/yijunshen/opt/anaconda3/lib/python3.9/site-packages (from imbalanced-learn->imblearn) (1.1.0)\n",
      "Requirement already satisfied: numpy>=1.17.3 in /Users/yijunshen/opt/anaconda3/lib/python3.9/site-packages (from imbalanced-learn->imblearn) (1.20.3)\n",
      "Requirement already satisfied: scikit-learn>=1.1.0 in /Users/yijunshen/opt/anaconda3/lib/python3.9/site-packages (from imbalanced-learn->imblearn) (1.1.1)\n",
      "Requirement already satisfied: scipy>=1.3.2 in /Users/yijunshen/opt/anaconda3/lib/python3.9/site-packages (from imbalanced-learn->imblearn) (1.7.1)\n",
      "Requirement already satisfied: threadpoolctl>=2.0.0 in /Users/yijunshen/opt/anaconda3/lib/python3.9/site-packages (from imbalanced-learn->imblearn) (2.2.0)\n",
      "Collecting sklearn\n",
      "  Downloading sklearn-0.0.tar.gz (1.1 kB)\n",
      "Requirement already satisfied: scikit-learn in /Users/yijunshen/opt/anaconda3/lib/python3.9/site-packages (from sklearn) (1.1.1)\n",
      "Requirement already satisfied: scipy>=1.3.2 in /Users/yijunshen/opt/anaconda3/lib/python3.9/site-packages (from scikit-learn->sklearn) (1.7.1)\n",
      "Requirement already satisfied: joblib>=1.0.0 in /Users/yijunshen/opt/anaconda3/lib/python3.9/site-packages (from scikit-learn->sklearn) (1.1.0)\n",
      "Requirement already satisfied: numpy>=1.17.3 in /Users/yijunshen/opt/anaconda3/lib/python3.9/site-packages (from scikit-learn->sklearn) (1.20.3)\n",
      "Requirement already satisfied: threadpoolctl>=2.0.0 in /Users/yijunshen/opt/anaconda3/lib/python3.9/site-packages (from scikit-learn->sklearn) (2.2.0)\n",
      "Building wheels for collected packages: sklearn\n",
      "  Building wheel for sklearn (setup.py) ... \u001b[?25ldone\n",
      "\u001b[?25h  Created wheel for sklearn: filename=sklearn-0.0-py2.py3-none-any.whl size=1309 sha256=012c2851efeb36df359e463bc740f91c3a21ccef7a349ba1d9b4eede4a6d0ad1\n",
      "  Stored in directory: /Users/yijunshen/Library/Caches/pip/wheels/e4/7b/98/b6466d71b8d738a0c547008b9eb39bf8676d1ff6ca4b22af1c\n",
      "Successfully built sklearn\n",
      "Installing collected packages: sklearn\n",
      "Successfully installed sklearn-0.0\n"
     ]
    }
   ],
   "source": [
    "!pip install imblearn\n",
    "!pip install sklearn"
   ]
  },
  {
   "cell_type": "code",
   "execution_count": 14,
   "metadata": {
    "execution": {
     "iopub.execute_input": "2022-07-24T00:31:19.327376Z",
     "iopub.status.busy": "2022-07-24T00:31:19.327096Z",
     "iopub.status.idle": "2022-07-24T00:31:19.349025Z",
     "shell.execute_reply": "2022-07-24T00:31:19.348110Z",
     "shell.execute_reply.started": "2022-07-24T00:31:19.327347Z"
    }
   },
   "outputs": [
    {
     "ename": "ImportError",
     "evalue": "cannot import name '_ClassNamePrefixFeaturesOutMixin' from 'sklearn.base' (/Users/yijunshen/opt/anaconda3/lib/python3.9/site-packages/sklearn/base.py)",
     "output_type": "error",
     "traceback": [
      "\u001b[0;31m---------------------------------------------------------------------------\u001b[0m",
      "\u001b[0;31mImportError\u001b[0m                               Traceback (most recent call last)",
      "\u001b[0;32m/var/folders/6d/6m_mgv7n6g15n856xyw5dlfm0000gn/T/ipykernel_7547/4127295507.py\u001b[0m in \u001b[0;36m<module>\u001b[0;34m\u001b[0m\n\u001b[1;32m     15\u001b[0m \u001b[0;32mfrom\u001b[0m \u001b[0msklearn\u001b[0m\u001b[0;34m.\u001b[0m\u001b[0mlinear_model\u001b[0m \u001b[0;32mimport\u001b[0m \u001b[0mLogisticRegression\u001b[0m\u001b[0;34m\u001b[0m\u001b[0;34m\u001b[0m\u001b[0m\n\u001b[1;32m     16\u001b[0m \u001b[0;34m\u001b[0m\u001b[0m\n\u001b[0;32m---> 17\u001b[0;31m \u001b[0;32mfrom\u001b[0m \u001b[0mimblearn\u001b[0m\u001b[0;34m.\u001b[0m\u001b[0mover_sampling\u001b[0m \u001b[0;32mimport\u001b[0m \u001b[0mSMOTE\u001b[0m\u001b[0;34m\u001b[0m\u001b[0;34m\u001b[0m\u001b[0m\n\u001b[0m\u001b[1;32m     18\u001b[0m \u001b[0;32mfrom\u001b[0m \u001b[0mimblearn\u001b[0m\u001b[0;34m.\u001b[0m\u001b[0munder_sampling\u001b[0m \u001b[0;32mimport\u001b[0m \u001b[0mRandomUnderSampler\u001b[0m\u001b[0;34m\u001b[0m\u001b[0;34m\u001b[0m\u001b[0m\n\u001b[1;32m     19\u001b[0m \u001b[0;32mfrom\u001b[0m \u001b[0mimblearn\u001b[0m\u001b[0;34m.\u001b[0m\u001b[0mpipeline\u001b[0m \u001b[0;32mimport\u001b[0m \u001b[0mPipeline\u001b[0m \u001b[0;32mas\u001b[0m \u001b[0mimbpipe\u001b[0m\u001b[0;34m\u001b[0m\u001b[0;34m\u001b[0m\u001b[0m\n",
      "\u001b[0;32m~/opt/anaconda3/lib/python3.9/site-packages/imblearn/__init__.py\u001b[0m in \u001b[0;36m<module>\u001b[0;34m\u001b[0m\n\u001b[1;32m     50\u001b[0m     \u001b[0;31m# process, as it may not be compiled yet\u001b[0m\u001b[0;34m\u001b[0m\u001b[0;34m\u001b[0m\u001b[0m\n\u001b[1;32m     51\u001b[0m \u001b[0;32melse\u001b[0m\u001b[0;34m:\u001b[0m\u001b[0;34m\u001b[0m\u001b[0;34m\u001b[0m\u001b[0m\n\u001b[0;32m---> 52\u001b[0;31m     \u001b[0;32mfrom\u001b[0m \u001b[0;34m.\u001b[0m \u001b[0;32mimport\u001b[0m \u001b[0mcombine\u001b[0m\u001b[0;34m\u001b[0m\u001b[0;34m\u001b[0m\u001b[0m\n\u001b[0m\u001b[1;32m     53\u001b[0m     \u001b[0;32mfrom\u001b[0m \u001b[0;34m.\u001b[0m \u001b[0;32mimport\u001b[0m \u001b[0mensemble\u001b[0m\u001b[0;34m\u001b[0m\u001b[0;34m\u001b[0m\u001b[0m\n\u001b[1;32m     54\u001b[0m     \u001b[0;32mfrom\u001b[0m \u001b[0;34m.\u001b[0m \u001b[0;32mimport\u001b[0m \u001b[0mexceptions\u001b[0m\u001b[0;34m\u001b[0m\u001b[0;34m\u001b[0m\u001b[0m\n",
      "\u001b[0;32m~/opt/anaconda3/lib/python3.9/site-packages/imblearn/combine/__init__.py\u001b[0m in \u001b[0;36m<module>\u001b[0;34m\u001b[0m\n\u001b[1;32m      3\u001b[0m \"\"\"\n\u001b[1;32m      4\u001b[0m \u001b[0;34m\u001b[0m\u001b[0m\n\u001b[0;32m----> 5\u001b[0;31m \u001b[0;32mfrom\u001b[0m \u001b[0;34m.\u001b[0m\u001b[0m_smote_enn\u001b[0m \u001b[0;32mimport\u001b[0m \u001b[0mSMOTEENN\u001b[0m\u001b[0;34m\u001b[0m\u001b[0;34m\u001b[0m\u001b[0m\n\u001b[0m\u001b[1;32m      6\u001b[0m \u001b[0;32mfrom\u001b[0m \u001b[0;34m.\u001b[0m\u001b[0m_smote_tomek\u001b[0m \u001b[0;32mimport\u001b[0m \u001b[0mSMOTETomek\u001b[0m\u001b[0;34m\u001b[0m\u001b[0;34m\u001b[0m\u001b[0m\n\u001b[1;32m      7\u001b[0m \u001b[0;34m\u001b[0m\u001b[0m\n",
      "\u001b[0;32m~/opt/anaconda3/lib/python3.9/site-packages/imblearn/combine/_smote_enn.py\u001b[0m in \u001b[0;36m<module>\u001b[0;34m\u001b[0m\n\u001b[1;32m      9\u001b[0m \u001b[0;34m\u001b[0m\u001b[0m\n\u001b[1;32m     10\u001b[0m \u001b[0;32mfrom\u001b[0m \u001b[0;34m.\u001b[0m\u001b[0;34m.\u001b[0m\u001b[0mbase\u001b[0m \u001b[0;32mimport\u001b[0m \u001b[0mBaseSampler\u001b[0m\u001b[0;34m\u001b[0m\u001b[0;34m\u001b[0m\u001b[0m\n\u001b[0;32m---> 11\u001b[0;31m \u001b[0;32mfrom\u001b[0m \u001b[0;34m.\u001b[0m\u001b[0;34m.\u001b[0m\u001b[0mover_sampling\u001b[0m \u001b[0;32mimport\u001b[0m \u001b[0mSMOTE\u001b[0m\u001b[0;34m\u001b[0m\u001b[0;34m\u001b[0m\u001b[0m\n\u001b[0m\u001b[1;32m     12\u001b[0m \u001b[0;32mfrom\u001b[0m \u001b[0;34m.\u001b[0m\u001b[0;34m.\u001b[0m\u001b[0mover_sampling\u001b[0m\u001b[0;34m.\u001b[0m\u001b[0mbase\u001b[0m \u001b[0;32mimport\u001b[0m \u001b[0mBaseOverSampler\u001b[0m\u001b[0;34m\u001b[0m\u001b[0;34m\u001b[0m\u001b[0m\n\u001b[1;32m     13\u001b[0m \u001b[0;32mfrom\u001b[0m \u001b[0;34m.\u001b[0m\u001b[0;34m.\u001b[0m\u001b[0munder_sampling\u001b[0m \u001b[0;32mimport\u001b[0m \u001b[0mEditedNearestNeighbours\u001b[0m\u001b[0;34m\u001b[0m\u001b[0;34m\u001b[0m\u001b[0m\n",
      "\u001b[0;32m~/opt/anaconda3/lib/python3.9/site-packages/imblearn/over_sampling/__init__.py\u001b[0m in \u001b[0;36m<module>\u001b[0;34m\u001b[0m\n\u001b[1;32m      6\u001b[0m \u001b[0;32mfrom\u001b[0m \u001b[0;34m.\u001b[0m\u001b[0m_adasyn\u001b[0m \u001b[0;32mimport\u001b[0m \u001b[0mADASYN\u001b[0m\u001b[0;34m\u001b[0m\u001b[0;34m\u001b[0m\u001b[0m\n\u001b[1;32m      7\u001b[0m \u001b[0;32mfrom\u001b[0m \u001b[0;34m.\u001b[0m\u001b[0m_random_over_sampler\u001b[0m \u001b[0;32mimport\u001b[0m \u001b[0mRandomOverSampler\u001b[0m\u001b[0;34m\u001b[0m\u001b[0;34m\u001b[0m\u001b[0m\n\u001b[0;32m----> 8\u001b[0;31m \u001b[0;32mfrom\u001b[0m \u001b[0;34m.\u001b[0m\u001b[0m_smote\u001b[0m \u001b[0;32mimport\u001b[0m \u001b[0mSMOTE\u001b[0m\u001b[0;34m\u001b[0m\u001b[0;34m\u001b[0m\u001b[0m\n\u001b[0m\u001b[1;32m      9\u001b[0m \u001b[0;32mfrom\u001b[0m \u001b[0;34m.\u001b[0m\u001b[0m_smote\u001b[0m \u001b[0;32mimport\u001b[0m \u001b[0mBorderlineSMOTE\u001b[0m\u001b[0;34m\u001b[0m\u001b[0;34m\u001b[0m\u001b[0m\n\u001b[1;32m     10\u001b[0m \u001b[0;32mfrom\u001b[0m \u001b[0;34m.\u001b[0m\u001b[0m_smote\u001b[0m \u001b[0;32mimport\u001b[0m \u001b[0mKMeansSMOTE\u001b[0m\u001b[0;34m\u001b[0m\u001b[0;34m\u001b[0m\u001b[0m\n",
      "\u001b[0;32m~/opt/anaconda3/lib/python3.9/site-packages/imblearn/over_sampling/_smote/__init__.py\u001b[0m in \u001b[0;36m<module>\u001b[0;34m\u001b[0m\n\u001b[1;32m      3\u001b[0m \u001b[0;32mfrom\u001b[0m \u001b[0;34m.\u001b[0m\u001b[0mbase\u001b[0m \u001b[0;32mimport\u001b[0m \u001b[0mSMOTENC\u001b[0m\u001b[0;34m\u001b[0m\u001b[0;34m\u001b[0m\u001b[0m\n\u001b[1;32m      4\u001b[0m \u001b[0;34m\u001b[0m\u001b[0m\n\u001b[0;32m----> 5\u001b[0;31m \u001b[0;32mfrom\u001b[0m \u001b[0;34m.\u001b[0m\u001b[0mcluster\u001b[0m \u001b[0;32mimport\u001b[0m \u001b[0mKMeansSMOTE\u001b[0m\u001b[0;34m\u001b[0m\u001b[0;34m\u001b[0m\u001b[0m\n\u001b[0m\u001b[1;32m      6\u001b[0m \u001b[0;34m\u001b[0m\u001b[0m\n\u001b[1;32m      7\u001b[0m \u001b[0;32mfrom\u001b[0m \u001b[0;34m.\u001b[0m\u001b[0mfilter\u001b[0m \u001b[0;32mimport\u001b[0m \u001b[0mBorderlineSMOTE\u001b[0m\u001b[0;34m\u001b[0m\u001b[0;34m\u001b[0m\u001b[0m\n",
      "\u001b[0;32m~/opt/anaconda3/lib/python3.9/site-packages/imblearn/over_sampling/_smote/cluster.py\u001b[0m in \u001b[0;36m<module>\u001b[0;34m\u001b[0m\n\u001b[1;32m     12\u001b[0m \u001b[0;34m\u001b[0m\u001b[0m\n\u001b[1;32m     13\u001b[0m \u001b[0;32mfrom\u001b[0m \u001b[0msklearn\u001b[0m\u001b[0;34m.\u001b[0m\u001b[0mbase\u001b[0m \u001b[0;32mimport\u001b[0m \u001b[0mclone\u001b[0m\u001b[0;34m\u001b[0m\u001b[0;34m\u001b[0m\u001b[0m\n\u001b[0;32m---> 14\u001b[0;31m \u001b[0;32mfrom\u001b[0m \u001b[0msklearn\u001b[0m\u001b[0;34m.\u001b[0m\u001b[0mcluster\u001b[0m \u001b[0;32mimport\u001b[0m \u001b[0mMiniBatchKMeans\u001b[0m\u001b[0;34m\u001b[0m\u001b[0;34m\u001b[0m\u001b[0m\n\u001b[0m\u001b[1;32m     15\u001b[0m \u001b[0;32mfrom\u001b[0m \u001b[0msklearn\u001b[0m\u001b[0;34m.\u001b[0m\u001b[0mmetrics\u001b[0m \u001b[0;32mimport\u001b[0m \u001b[0mpairwise_distances\u001b[0m\u001b[0;34m\u001b[0m\u001b[0;34m\u001b[0m\u001b[0m\n\u001b[1;32m     16\u001b[0m \u001b[0;32mfrom\u001b[0m \u001b[0msklearn\u001b[0m\u001b[0;34m.\u001b[0m\u001b[0mutils\u001b[0m \u001b[0;32mimport\u001b[0m \u001b[0m_safe_indexing\u001b[0m\u001b[0;34m\u001b[0m\u001b[0;34m\u001b[0m\u001b[0m\n",
      "\u001b[0;32m~/opt/anaconda3/lib/python3.9/site-packages/sklearn/cluster/__init__.py\u001b[0m in \u001b[0;36m<module>\u001b[0;34m\u001b[0m\n\u001b[1;32m      4\u001b[0m \"\"\"\n\u001b[1;32m      5\u001b[0m \u001b[0;34m\u001b[0m\u001b[0m\n\u001b[0;32m----> 6\u001b[0;31m \u001b[0;32mfrom\u001b[0m \u001b[0;34m.\u001b[0m\u001b[0m_spectral\u001b[0m \u001b[0;32mimport\u001b[0m \u001b[0mspectral_clustering\u001b[0m\u001b[0;34m,\u001b[0m \u001b[0mSpectralClustering\u001b[0m\u001b[0;34m\u001b[0m\u001b[0;34m\u001b[0m\u001b[0m\n\u001b[0m\u001b[1;32m      7\u001b[0m \u001b[0;32mfrom\u001b[0m \u001b[0;34m.\u001b[0m\u001b[0m_mean_shift\u001b[0m \u001b[0;32mimport\u001b[0m \u001b[0mmean_shift\u001b[0m\u001b[0;34m,\u001b[0m \u001b[0mMeanShift\u001b[0m\u001b[0;34m,\u001b[0m \u001b[0mestimate_bandwidth\u001b[0m\u001b[0;34m,\u001b[0m \u001b[0mget_bin_seeds\u001b[0m\u001b[0;34m\u001b[0m\u001b[0;34m\u001b[0m\u001b[0m\n\u001b[1;32m      8\u001b[0m \u001b[0;32mfrom\u001b[0m \u001b[0;34m.\u001b[0m\u001b[0m_affinity_propagation\u001b[0m \u001b[0;32mimport\u001b[0m \u001b[0maffinity_propagation\u001b[0m\u001b[0;34m,\u001b[0m \u001b[0mAffinityPropagation\u001b[0m\u001b[0;34m\u001b[0m\u001b[0;34m\u001b[0m\u001b[0m\n",
      "\u001b[0;32m~/opt/anaconda3/lib/python3.9/site-packages/sklearn/cluster/_spectral.py\u001b[0m in \u001b[0;36m<module>\u001b[0;34m\u001b[0m\n\u001b[1;32m     19\u001b[0m \u001b[0;32mfrom\u001b[0m \u001b[0;34m.\u001b[0m\u001b[0;34m.\u001b[0m\u001b[0mmetrics\u001b[0m\u001b[0;34m.\u001b[0m\u001b[0mpairwise\u001b[0m \u001b[0;32mimport\u001b[0m \u001b[0mpairwise_kernels\u001b[0m\u001b[0;34m\u001b[0m\u001b[0;34m\u001b[0m\u001b[0m\n\u001b[1;32m     20\u001b[0m \u001b[0;32mfrom\u001b[0m \u001b[0;34m.\u001b[0m\u001b[0;34m.\u001b[0m\u001b[0mneighbors\u001b[0m \u001b[0;32mimport\u001b[0m \u001b[0mkneighbors_graph\u001b[0m\u001b[0;34m,\u001b[0m \u001b[0mNearestNeighbors\u001b[0m\u001b[0;34m\u001b[0m\u001b[0;34m\u001b[0m\u001b[0m\n\u001b[0;32m---> 21\u001b[0;31m \u001b[0;32mfrom\u001b[0m \u001b[0;34m.\u001b[0m\u001b[0;34m.\u001b[0m\u001b[0mmanifold\u001b[0m \u001b[0;32mimport\u001b[0m \u001b[0mspectral_embedding\u001b[0m\u001b[0;34m\u001b[0m\u001b[0;34m\u001b[0m\u001b[0m\n\u001b[0m\u001b[1;32m     22\u001b[0m \u001b[0;32mfrom\u001b[0m \u001b[0;34m.\u001b[0m\u001b[0m_kmeans\u001b[0m \u001b[0;32mimport\u001b[0m \u001b[0mk_means\u001b[0m\u001b[0;34m\u001b[0m\u001b[0;34m\u001b[0m\u001b[0m\n\u001b[1;32m     23\u001b[0m \u001b[0;34m\u001b[0m\u001b[0m\n",
      "\u001b[0;32m~/opt/anaconda3/lib/python3.9/site-packages/sklearn/manifold/__init__.py\u001b[0m in \u001b[0;36m<module>\u001b[0;34m\u001b[0m\n\u001b[1;32m      3\u001b[0m \"\"\"\n\u001b[1;32m      4\u001b[0m \u001b[0;34m\u001b[0m\u001b[0m\n\u001b[0;32m----> 5\u001b[0;31m \u001b[0;32mfrom\u001b[0m \u001b[0;34m.\u001b[0m\u001b[0m_locally_linear\u001b[0m \u001b[0;32mimport\u001b[0m \u001b[0mlocally_linear_embedding\u001b[0m\u001b[0;34m,\u001b[0m \u001b[0mLocallyLinearEmbedding\u001b[0m\u001b[0;34m\u001b[0m\u001b[0;34m\u001b[0m\u001b[0m\n\u001b[0m\u001b[1;32m      6\u001b[0m \u001b[0;32mfrom\u001b[0m \u001b[0;34m.\u001b[0m\u001b[0m_isomap\u001b[0m \u001b[0;32mimport\u001b[0m \u001b[0mIsomap\u001b[0m\u001b[0;34m\u001b[0m\u001b[0;34m\u001b[0m\u001b[0m\n\u001b[1;32m      7\u001b[0m \u001b[0;32mfrom\u001b[0m \u001b[0;34m.\u001b[0m\u001b[0m_mds\u001b[0m \u001b[0;32mimport\u001b[0m \u001b[0mMDS\u001b[0m\u001b[0;34m,\u001b[0m \u001b[0msmacof\u001b[0m\u001b[0;34m\u001b[0m\u001b[0;34m\u001b[0m\u001b[0m\n",
      "\u001b[0;32m~/opt/anaconda3/lib/python3.9/site-packages/sklearn/manifold/_locally_linear.py\u001b[0m in \u001b[0;36m<module>\u001b[0;34m\u001b[0m\n\u001b[1;32m     10\u001b[0m \u001b[0;32mfrom\u001b[0m \u001b[0mscipy\u001b[0m\u001b[0;34m.\u001b[0m\u001b[0msparse\u001b[0m\u001b[0;34m.\u001b[0m\u001b[0mlinalg\u001b[0m \u001b[0;32mimport\u001b[0m \u001b[0meigsh\u001b[0m\u001b[0;34m\u001b[0m\u001b[0;34m\u001b[0m\u001b[0m\n\u001b[1;32m     11\u001b[0m \u001b[0;34m\u001b[0m\u001b[0m\n\u001b[0;32m---> 12\u001b[0;31m from ..base import (\n\u001b[0m\u001b[1;32m     13\u001b[0m     \u001b[0mBaseEstimator\u001b[0m\u001b[0;34m,\u001b[0m\u001b[0;34m\u001b[0m\u001b[0;34m\u001b[0m\u001b[0m\n\u001b[1;32m     14\u001b[0m     \u001b[0mTransformerMixin\u001b[0m\u001b[0;34m,\u001b[0m\u001b[0;34m\u001b[0m\u001b[0;34m\u001b[0m\u001b[0m\n",
      "\u001b[0;31mImportError\u001b[0m: cannot import name '_ClassNamePrefixFeaturesOutMixin' from 'sklearn.base' (/Users/yijunshen/opt/anaconda3/lib/python3.9/site-packages/sklearn/base.py)"
     ]
    }
   ],
   "source": [
    "import numpy as np\n",
    "import pandas as pd \n",
    "import os\n",
    "import seaborn as sns\n",
    "import matplotlib.pyplot as plt\n",
    "\n",
    "from sklearn.model_selection import train_test_split, cross_val_predict, cross_val_score, KFold\n",
    "from sklearn.model_selection import cross_val_score\n",
    "from sklearn.preprocessing import LabelEncoder,OneHotEncoder\n",
    "from sklearn.preprocessing import StandardScaler\n",
    "from sklearn.model_selection import GridSearchCV\n",
    "from sklearn.feature_selection import RFE\n",
    "from sklearn.svm import SVC\n",
    "from sklearn import metrics, tree\n",
    "from sklearn.linear_model import LogisticRegression\n",
    "\n",
    "from imblearn.over_sampling import SMOTE\n",
    "from imblearn.under_sampling import RandomUnderSampler\n",
    "from imblearn.pipeline import Pipeline as imbpipe\n",
    "\n",
    "\n",
    "# You can write up to 20GB to the current directory (/kaggle/working/) that gets preserved as output when you create a version using \"Save & Run All\" \n",
    "# You can also write temporary files to /kaggle/temp/, but they won't be saved outside of the current sessio"
   ]
  },
  {
   "cell_type": "markdown",
   "metadata": {},
   "source": [
    "# Data loading & Preprocessing Funcs"
   ]
  },
  {
   "cell_type": "code",
   "execution_count": 2,
   "metadata": {
    "execution": {
     "iopub.execute_input": "2022-07-23T22:14:05.530603Z",
     "iopub.status.busy": "2022-07-23T22:14:05.530213Z",
     "iopub.status.idle": "2022-07-23T22:14:05.536721Z",
     "shell.execute_reply": "2022-07-23T22:14:05.535854Z",
     "shell.execute_reply.started": "2022-07-23T22:14:05.530564Z"
    }
   },
   "outputs": [],
   "source": [
    "# DATA LOADING\n",
    "# Find file paths on kaggle\n",
    "def find_all_file_paths():\n",
    "    for dirname, _, filenames in os.walk('/kaggle/input'):\n",
    "        for filename in filenames:\n",
    "            print(os.path.join(dirname, filename))\n",
    "\n",
    "# Load data from CSV\n",
    "def load_csv(data_dir, filename):\n",
    "    df = pd.read_csv(os.path.join(data_dir, filename))\n",
    "    return df\n"
   ]
  },
  {
   "cell_type": "code",
   "execution_count": 3,
   "metadata": {
    "execution": {
     "iopub.execute_input": "2022-07-23T22:14:06.436154Z",
     "iopub.status.busy": "2022-07-23T22:14:06.435429Z",
     "iopub.status.idle": "2022-07-23T22:14:06.443500Z",
     "shell.execute_reply": "2022-07-23T22:14:06.442848Z",
     "shell.execute_reply.started": "2022-07-23T22:14:06.436117Z"
    }
   },
   "outputs": [],
   "source": [
    "# CLEANING FUNCS\n",
    "def drop_zero_variance_features(df):\n",
    "    nunique = df.nunique() # num of unique values in each col\n",
    "    drop_cols = nunique[nunique==1].keys().values\n",
    "    for drop_col in drop_cols:\n",
    "        df.drop([drop_col], axis=1, inplace=True)\n",
    "        \n",
    "    return df\n",
    "\n",
    "def check_null_values(df):\n",
    "    null_sum= df.isnull().sum()\n",
    "    if null_sum.values.sum()!=0:\n",
    "        print('WARNING!! THE FOLLOWING FEATURES CONTAIN NULL VALUES:')\n",
    "        print(null_sum[null_num!=0].keys())\n",
    "    else:\n",
    "        print('No null values in existing dataframe.')\n",
    "        \n",
    "def check_dup_values(df):\n",
    "    if df.duplicated().sum()==0:\n",
    "        print('No duplicated rows in existing dataframe.')\n",
    "    else:\n",
    "        print('WARNING!! THE FOLLOWING ROWS CONTAIN DUPLICATES:')\n",
    "        print(df[df.duplicated()])\n",
    "\n",
    "        \n",
    "        \n",
    "\n",
    "    \n",
    "    "
   ]
  },
  {
   "cell_type": "code",
   "execution_count": 4,
   "metadata": {
    "execution": {
     "iopub.execute_input": "2022-07-23T22:14:07.210595Z",
     "iopub.status.busy": "2022-07-23T22:14:07.210274Z",
     "iopub.status.idle": "2022-07-23T22:14:07.219447Z",
     "shell.execute_reply": "2022-07-23T22:14:07.218467Z",
     "shell.execute_reply.started": "2022-07-23T22:14:07.210554Z"
    }
   },
   "outputs": [],
   "source": [
    "# PREPROCESSING\n",
    "\n",
    "def label_encoder(df, feature_list):\n",
    "    '''\n",
    "    Feature list: list of features that you want to encode from categorical data\n",
    "    '''\n",
    "    le = LabelEncoder()\n",
    "    for i in feature_list:\n",
    "        df[i] = le.fit_transform(df[i])\n",
    "    return df\n",
    "\n",
    "def one_hot_encoder(df,feature_list):\n",
    "\n",
    "    ohe = OneHotEncoder(\n",
    "        categories='auto',  # Categories per feature\n",
    "        drop=None, # Whether to drop one of the features\n",
    "        sparse=True, # Will return sparse matrix if set True\n",
    "        dtype=np.float64, # Desired data type of the output\n",
    "        handle_unknown='error' # Whether to raise an error \n",
    "    )   \n",
    "    for i in feature_list:\n",
    "        transformed = ohe.fit_transform(df[[i]])\n",
    "        df[ohe.categories_[0]] = transformed.toarray()\n",
    "        df.drop([i],axis=1,inplace=True)\n",
    "    return df\n",
    "\n",
    "def split_feature_target(df,target): \n",
    "    X = df.drop(target,axis =1)\n",
    "    y = df[target]\n",
    "    return X,y\n",
    "\n",
    "def normalize_features(X):\n",
    "    sc = StandardScaler()\n",
    "    X = sc.fit_transform(X)\n",
    "#     assert(np.mean(X, axis=0)[np.random.randint(X.shape[1])]==0)\n",
    "#     assert(np.std(X, axis=0)[np.random.randint(X.shape[1])]==1)\n",
    "   \n",
    "    return X\n",
    "    "
   ]
  },
  {
   "cell_type": "code",
   "execution_count": 5,
   "metadata": {
    "execution": {
     "iopub.execute_input": "2022-07-24T00:36:05.695675Z",
     "iopub.status.busy": "2022-07-24T00:36:05.695339Z",
     "iopub.status.idle": "2022-07-24T00:36:05.709285Z",
     "shell.execute_reply": "2022-07-24T00:36:05.708554Z",
     "shell.execute_reply.started": "2022-07-24T00:36:05.695617Z"
    }
   },
   "outputs": [],
   "source": [
    "def balanced_sampler(X,y, random_state=42):\n",
    "\n",
    "    over = SMOTE(random_state=random_state)\n",
    "    under = RandomUnderSampler()\n",
    "\n",
    "    steps = [('o', over),('u', under)]\n",
    "    imbpipeline = imbpipe(steps)\n",
    "\n",
    "    X, y = imbpipeline.fit_resample(X, y)\n",
    "\n",
    "    print(f'resampled y: {pd.Series(y).value_counts()}')\n",
    "    return X,y\n",
    "\n",
    "def initialize_model(model_name,params={}): \n",
    "    # Initialize model\n",
    "    if model_name=='SVM':\n",
    "        model=SVC(**params) \n",
    "    elif model_name=='DecisionTree':\n",
    "        model=tree.DecisionTreeClassifier(**params)\n",
    "    elif model_name=='LogisticRegression':\n",
    "        model=LogisticRegression()\n",
    "        model=RFE(model,**params)\n",
    "#         else:\n",
    "#             model=LogisticRegression()   # Default hyperparameters\n",
    "#             model=RFE(model)\n",
    "            \n",
    "        \n",
    "    return model\n",
    "\n",
    "def test_metrics(model,X_test,y_test):\n",
    "    y_pred=model.predict(X_test)\n",
    "    accuracy = metrics.accuracy_score(y_test,y_pred) # correctly predicted/all labels\n",
    "    precision = metrics.precision_score(y_test, y_pred) # True positive / all detected positives (sensitivity)\n",
    "    recall = metrics.recall_score(y_test, y_pred)  # True positive / all actual positives (true poitive + negative false)\n",
    "    classification_report = metrics.classification_report(y_test, y_pred)\n",
    "    confusion_matrix = metrics.confusion_matrix(y_test, y_pred)\n",
    "    return accuracy, precision, recall, classification_report, confusion_matrix, y_pred\n",
    "\n",
    "def generate_hyperparams_dict(model_name):\n",
    "    if model_name=='SVM':\n",
    "        hyperparams_dict={\n",
    "            'C': (np.arange(2,3,0.1)) , \n",
    "            'gamma': [0.01,0.02,0.03,0.04,0.05], \n",
    "            'kernel': ['linear', 'poly', 'rbf'],\n",
    "            'degree': [2,3,4]\n",
    "        }\n",
    "    elif model_name =='DecisionTree':\n",
    "        hyperparams_dict = {\"criterion\":(\"gini\",\"entropy\"),\n",
    "               \"splitter\":(\"best\",\"random\"),\n",
    "               \"max_depth\":list(range(1,20)),\n",
    "               \"min_samples_split\":[2,3,4],\n",
    "               \"min_samples_leaf\":list(range(1,20))}\n",
    "    elif model_name == 'LogisticRegression':\n",
    "        hyperparams_dict = [{'n_features_to_select':list(range(1,26))}]\n",
    "    return hyperparams_dict\n",
    "    \n"
   ]
  },
  {
   "cell_type": "markdown",
   "metadata": {},
   "source": [
    "# Plotting funcs\n"
   ]
  },
  {
   "cell_type": "code",
   "execution_count": 6,
   "metadata": {
    "execution": {
     "iopub.execute_input": "2022-07-23T22:14:21.748694Z",
     "iopub.status.busy": "2022-07-23T22:14:21.747636Z",
     "iopub.status.idle": "2022-07-23T22:14:21.759055Z",
     "shell.execute_reply": "2022-07-23T22:14:21.757903Z",
     "shell.execute_reply.started": "2022-07-23T22:14:21.748636Z"
    }
   },
   "outputs": [],
   "source": [
    "def plot_correlation(df, method='spearman', show=True, cols=[], cmap='cool'):\n",
    "    if show:\n",
    "        if not cols:\n",
    "            df=df\n",
    "        else:\n",
    "            df = df[cols]\n",
    "        figure = plt.figure(figsize=(14,10))\n",
    "        sns.heatmap(df.corr(method = method),\n",
    "                    annot=True, \n",
    "                    fmt = \".1f\", \n",
    "                    cmap = cmap)\n",
    "        plt.show()\n",
    "\n",
    "def plot_confusion_matrix(y_test, y_pred, classes=[0,1]):\n",
    "    cnf_mat = metrics.confusion_matrix(y_test, y_pred)\n",
    "    fig, ax = plt.subplots()\n",
    "    tick_marks = np.arange(len(classes))\n",
    "    plt.xticks(tick_marks, classes)\n",
    "    plt.yticks(tick_marks, classes)\n",
    "    plt.xlabel('Predicted label')\n",
    "    plt.ylabel('Real label')\n",
    "    # create heatmap\n",
    "    sns.heatmap(pd.DataFrame(cnf_mat), annot=True, cmap=\"RdBu_r\" ,fmt='g')\n",
    "    ax.xaxis.set_label_position(\"top\")"
   ]
  },
  {
   "cell_type": "markdown",
   "metadata": {},
   "source": [
    "# Main"
   ]
  },
  {
   "cell_type": "markdown",
   "metadata": {},
   "source": [
    "## Data cleaning & preprocessing\n",
    "save this result and use this result later"
   ]
  },
  {
   "cell_type": "code",
   "execution_count": 7,
   "metadata": {
    "execution": {
     "iopub.execute_input": "2022-07-23T22:14:25.135443Z",
     "iopub.status.busy": "2022-07-23T22:14:25.135141Z",
     "iopub.status.idle": "2022-07-23T22:14:25.194126Z",
     "shell.execute_reply": "2022-07-23T22:14:25.193106Z",
     "shell.execute_reply.started": "2022-07-23T22:14:25.135411Z"
    }
   },
   "outputs": [
    {
     "ename": "SyntaxError",
     "evalue": "invalid syntax (2637241728.py, line 13)",
     "output_type": "error",
     "traceback": [
      "\u001b[0;36m  File \u001b[0;32m\"/var/folders/6d/6m_mgv7n6g15n856xyw5dlfm0000gn/T/ipykernel_7547/2637241728.py\"\u001b[0;36m, line \u001b[0;32m13\u001b[0m\n\u001b[0;31m    check_dup_values(df)df\u001b[0m\n\u001b[0m                        ^\u001b[0m\n\u001b[0;31mSyntaxError\u001b[0m\u001b[0;31m:\u001b[0m invalid syntax\n"
     ]
    }
   ],
   "source": [
    "# Step 1: Data loading\n",
    "df = load_csv(data_dir='/kaggle/input/ibm-hr-analytics-attrition-dataset/',filename='WA_Fn-UseC_-HR-Employee-Attrition.csv')\n",
    "\n",
    "# Step 2: Data Cleaning\n",
    "# 2.0 Select useful columns\n",
    "select_cols = ['Attrition','DistanceFromHome','Education','EnvironmentSatisfaction','Gender','JobLevel','JobRole','JobSatisfaction','MonthlyIncome','MonthlyRate','NumCompaniesWorked','PercentSalaryHike','TotalWorkingYears','WorkLifeBalance','YearsInCurrentRole']\n",
    "df = df[select_cols]\n",
    "# 2.1: Drop zero variance features\n",
    "df = drop_zero_variance_features(df)\n",
    "# 2.2 Check null values\n",
    "check_null_values(df)\n",
    "# 2.3 Check duplicates\n",
    "check_dup_values(df)df\n",
    "\n",
    "# Step 3: Data preprocessing\n",
    "# 3.1 Categorical encoding: label encoding\n",
    "df = label_encoder(df, feature_list=['Gender','Attrition'])\n",
    "# One-hot encoding (Do we really need this for job role??)\n",
    "df = one_hot_encoder(df,feature_list=['JobRole'])\n",
    "\n",
    "# 3.2 Remove highly-correlated features\n",
    "# Plot Correlation\n",
    "plot_correlation(df, show=False, cmap='RdBu_r')\n",
    "'''\n",
    "'YearsInCurrentRole' strongly correlated to 'YearsAtCompany'\n",
    "'JobLevel' strongly correlated to 'MonthlyIncome'\n",
    "'JobLevel' strongly correlated to 'TotalWorkingYears'\n",
    "'MonthlyIncome' strongly correlated to 'TotalWorkingYears'\n",
    "'YearsAtCompany' strongly correlated to 'YearsWithCurrManager'\n",
    "'YearsAtCompany' strongly correlated to 'YearsInCurrRole'\n",
    "'YearsInCurrRole' strongly correlated to 'YearsWithCurrManager'\n",
    "--> Remove 'TotalWorkingYears','YearsInCurrentRole','JobLevel', 'YearsWithCurrManager'\n",
    "'''\n",
    "remove_cols = ['TotalWorkingYears','YearsInCurrentRole','JobLevel']\n",
    "df.drop(remove_cols, axis=1, inplace=True)\n",
    "# 3.3 Normalize feature values\n",
    "X,y = split_feature_target(df,target='Attrition')\n",
    "X = normalize_features(X)\n",
    "y= np.array(y)\n",
    "\n",
    "# 3.4 Save CSV\n",
    "df.to_csv('cleaned_data.csv')\n",
    "df"
   ]
  },
  {
   "cell_type": "code",
   "execution_count": 8,
   "metadata": {
    "execution": {
     "iopub.execute_input": "2022-07-24T00:56:16.315788Z",
     "iopub.status.busy": "2022-07-24T00:56:16.315182Z"
    }
   },
   "outputs": [
    {
     "name": "stdout",
     "output_type": "stream",
     "text": [
      "\n",
      "---Test model SVM---\n"
     ]
    },
    {
     "ename": "NameError",
     "evalue": "name 'X_train' is not defined",
     "output_type": "error",
     "traceback": [
      "\u001b[0;31m---------------------------------------------------------------------------\u001b[0m",
      "\u001b[0;31mNameError\u001b[0m                                 Traceback (most recent call last)",
      "\u001b[0;32m/var/folders/6d/6m_mgv7n6g15n856xyw5dlfm0000gn/T/ipykernel_7547/1447931596.py\u001b[0m in \u001b[0;36m<module>\u001b[0;34m\u001b[0m\n\u001b[1;32m      6\u001b[0m \u001b[0;34m\u001b[0m\u001b[0m\n\u001b[1;32m      7\u001b[0m \u001b[0;32mif\u001b[0m \u001b[0mresample_all\u001b[0m\u001b[0;34m:\u001b[0m\u001b[0;34m\u001b[0m\u001b[0;34m\u001b[0m\u001b[0m\n\u001b[0;32m----> 8\u001b[0;31m     \u001b[0mX_\u001b[0m\u001b[0;34m,\u001b[0m \u001b[0my_\u001b[0m \u001b[0;34m=\u001b[0m \u001b[0mbalanced_sampler\u001b[0m\u001b[0;34m(\u001b[0m\u001b[0mX_train\u001b[0m\u001b[0;34m,\u001b[0m\u001b[0my_train\u001b[0m\u001b[0;34m,\u001b[0m \u001b[0mrandom_state\u001b[0m\u001b[0;34m=\u001b[0m\u001b[0;36m42\u001b[0m\u001b[0;34m)\u001b[0m\u001b[0;34m\u001b[0m\u001b[0;34m\u001b[0m\u001b[0m\n\u001b[0m\u001b[1;32m      9\u001b[0m     \u001b[0;31m# Train & test split\u001b[0m\u001b[0;34m\u001b[0m\u001b[0;34m\u001b[0m\u001b[0m\n\u001b[1;32m     10\u001b[0m     \u001b[0mX_train\u001b[0m\u001b[0;34m,\u001b[0m \u001b[0mX_test\u001b[0m\u001b[0;34m,\u001b[0m \u001b[0my_train\u001b[0m\u001b[0;34m,\u001b[0m \u001b[0my_test\u001b[0m \u001b[0;34m=\u001b[0m \u001b[0mtrain_test_split\u001b[0m\u001b[0;34m(\u001b[0m\u001b[0mX_\u001b[0m\u001b[0;34m,\u001b[0m \u001b[0my_\u001b[0m\u001b[0;34m,\u001b[0m \u001b[0mtest_size\u001b[0m \u001b[0;34m=\u001b[0m \u001b[0;36m0.2\u001b[0m\u001b[0;34m,\u001b[0m \u001b[0mrandom_state\u001b[0m \u001b[0;34m=\u001b[0m \u001b[0;36m42\u001b[0m\u001b[0;34m)\u001b[0m\u001b[0;34m\u001b[0m\u001b[0;34m\u001b[0m\u001b[0m\n",
      "\u001b[0;31mNameError\u001b[0m: name 'X_train' is not defined"
     ]
    }
   ],
   "source": [
    "model_name = 'SVM'\n",
    "n_folds=5\n",
    "resample_all=True\n",
    "\n",
    "print(f'\\n---Test model {model_name}---')\n",
    "\n",
    "if resample_all:\n",
    "    X_, y_ = balanced_sampler(X_train,y_train, random_state=42)\n",
    "    # Train & test split\n",
    "    X_train, X_test, y_train, y_test = train_test_split(X_, y_, test_size = 0.2, random_state = 42)\n",
    "else:\n",
    "    X_train, X_test, y_train, y_test = train_test_split(X, y, test_size = 0.2, random_state = 42)\n",
    "    # Resample train set to make it balance\n",
    "    X_train, y_train = balanced_sampler(X_train,y_train, random_state=42)\n",
    "\n",
    "# Train model once with default params--> test metrics\n",
    "print(\"\\n---Test model with default params---\")\n",
    "model = initialize_model(model_name=model_name)\n",
    "model.fit(X_train,y_train)\n",
    "accuracy, precision, recall, classification_report, confusion_matrix, y_pred = test_metrics(model=model,X_test=X_test,y_test=y_test)\n",
    "print(f'Accuracy: {np.round(accuracy,3)}, Precision: {np.round(precision,3)}, Recall: {np.round(recall,3)}')\n",
    "print(f'Classification report: \\n {classification_report}')\n",
    "\n",
    "# Hyperparameter search\n",
    "print(\"\\n---Search for best hyperparams---\")\n",
    "hyperparams_dict = generate_hyperparams_dict(model_name=model_name)\n",
    "model_search = GridSearchCV(estimator=model, param_grid=hyperparams_dict, cv=n_folds, scoring='accuracy', verbose=1) # DO WE USE ACCURACY HERE OR RECALL??\n",
    "model_search.fit(X_train, y_train)\n",
    "print(f'Best model score {model_search.best_score_}')\n",
    "best_params = model_search.best_params_\n",
    "print(f'Best hyperparams: {best_params}')\n",
    "\n",
    "# Test model with the best hyperparams\n",
    "print(\"\\n---Test model with best hyperparams---\")\n",
    "model_best = initialize_model(model_name=model_name, params=best_params)\n",
    "model_best.fit(X_train,y_train)\n",
    "accuracy, precision, recall, classification_report, confusion_matrix, y_pred = test_metrics(model=model_best,X_test=X_test,y_test=y_test)\n",
    "print(f'Accuracy: {np.round(accuracy,3)}, Precision: {np.round(precision,3)}, Recall: {np.round(recall,3)}')\n",
    "print(f'Classification report: \\n {classification_report}')\n",
    "plot_confusion_matrix(y_test, y_pred, classes=[0,1])"
   ]
  },
  {
   "cell_type": "markdown",
   "metadata": {},
   "source": [
    "### Additional funcs"
   ]
  },
  {
   "cell_type": "code",
   "execution_count": 9,
   "metadata": {
    "execution": {
     "iopub.execute_input": "2022-07-22T20:56:36.192541Z",
     "iopub.status.busy": "2022-07-22T20:56:36.192238Z",
     "iopub.status.idle": "2022-07-22T20:56:36.533117Z",
     "shell.execute_reply": "2022-07-22T20:56:36.532391Z",
     "shell.execute_reply.started": "2022-07-22T20:56:36.192511Z"
    }
   },
   "outputs": [
    {
     "ename": "NameError",
     "evalue": "name 'logreg' is not defined",
     "output_type": "error",
     "traceback": [
      "\u001b[0;31m---------------------------------------------------------------------------\u001b[0m",
      "\u001b[0;31mNameError\u001b[0m                                 Traceback (most recent call last)",
      "\u001b[0;32m/var/folders/6d/6m_mgv7n6g15n856xyw5dlfm0000gn/T/ipykernel_7547/3353645690.py\u001b[0m in \u001b[0;36m<module>\u001b[0;34m\u001b[0m\n\u001b[1;32m      4\u001b[0m \u001b[0;32mfrom\u001b[0m \u001b[0msklearn\u001b[0m\u001b[0;34m.\u001b[0m\u001b[0mmetrics\u001b[0m \u001b[0;32mimport\u001b[0m \u001b[0mroc_curve\u001b[0m\u001b[0;34m,\u001b[0m \u001b[0mauc\u001b[0m\u001b[0;34m\u001b[0m\u001b[0;34m\u001b[0m\u001b[0m\n\u001b[1;32m      5\u001b[0m \u001b[0;34m\u001b[0m\u001b[0m\n\u001b[0;32m----> 6\u001b[0;31m \u001b[0my_pred\u001b[0m\u001b[0;34m=\u001b[0m\u001b[0mlogreg\u001b[0m\u001b[0;34m.\u001b[0m\u001b[0mpredict\u001b[0m\u001b[0;34m(\u001b[0m\u001b[0mX_test\u001b[0m\u001b[0;34m)\u001b[0m\u001b[0;34m\u001b[0m\u001b[0;34m\u001b[0m\u001b[0m\n\u001b[0m\u001b[1;32m      7\u001b[0m \u001b[0mcnf_matrix\u001b[0m \u001b[0;34m=\u001b[0m \u001b[0mmetrics\u001b[0m\u001b[0;34m.\u001b[0m\u001b[0mconfusion_matrix\u001b[0m\u001b[0;34m(\u001b[0m\u001b[0my_test\u001b[0m\u001b[0;34m,\u001b[0m \u001b[0my_pred\u001b[0m\u001b[0;34m)\u001b[0m\u001b[0;34m\u001b[0m\u001b[0;34m\u001b[0m\u001b[0m\n\u001b[1;32m      8\u001b[0m \u001b[0mclass_names\u001b[0m\u001b[0;34m=\u001b[0m\u001b[0;34m[\u001b[0m\u001b[0;36m0\u001b[0m\u001b[0;34m,\u001b[0m\u001b[0;36m1\u001b[0m\u001b[0;34m]\u001b[0m \u001b[0;31m# name  of classes\u001b[0m\u001b[0;34m\u001b[0m\u001b[0;34m\u001b[0m\u001b[0m\n",
      "\u001b[0;31mNameError\u001b[0m: name 'logreg' is not defined"
     ]
    }
   ],
   "source": [
    "from sklearn import metrics\n",
    "from sklearn.metrics import confusion_matrix\n",
    "from sklearn.metrics import accuracy_score\n",
    "from sklearn.metrics import roc_curve, auc\n",
    "\n",
    "y_pred=logreg.predict(X_test)\n",
    "cnf_matrix = metrics.confusion_matrix(y_test, y_pred)\n",
    "class_names=[0,1] # name  of classes\n",
    "fig, ax = plt.subplots()\n",
    "tick_marks = np.arange(len(class_names))\n",
    "plt.xticks(tick_marks, class_names)\n",
    "plt.yticks(tick_marks, class_names)\n",
    "# create heatmap\n",
    "sns.heatmap(pd.DataFrame(cnf_matrix), annot=True, cmap=\"YlGnBu\" ,fmt='g')\n",
    "ax.xaxis.set_label_position(\"top\")\n",
    "plt.tight_layout()\n",
    "plt.title('Confusion matrix', y=1.1)\n",
    "plt.ylabel('Actual label')\n",
    "plt.xlabel('Predicted label')"
   ]
  },
  {
   "cell_type": "markdown",
   "metadata": {},
   "source": [
    "### Accuracy, Precision and Recall"
   ]
  },
  {
   "cell_type": "code",
   "execution_count": 28,
   "metadata": {
    "execution": {
     "iopub.execute_input": "2022-07-22T20:56:41.559054Z",
     "iopub.status.busy": "2022-07-22T20:56:41.558793Z",
     "iopub.status.idle": "2022-07-22T20:56:41.569327Z",
     "shell.execute_reply": "2022-07-22T20:56:41.568654Z",
     "shell.execute_reply.started": "2022-07-22T20:56:41.559025Z"
    }
   },
   "outputs": [
    {
     "name": "stdout",
     "output_type": "stream",
     "text": [
      "Accuracy: 0.8707482993197279\n",
      "Precision: 0.7391304347826086\n",
      "Recall: 0.3469387755102041\n"
     ]
    }
   ],
   "source": [
    "print(\"Accuracy:\",metrics.accuracy_score(y_test, y_pred))\n",
    "print(\"Precision:\",metrics.precision_score(y_test, y_pred))\n",
    "print(\"Recall:\",metrics.recall_score(y_test, y_pred))"
   ]
  },
  {
   "cell_type": "markdown",
   "metadata": {},
   "source": [
    "### Area Under the Curve"
   ]
  },
  {
   "cell_type": "code",
   "execution_count": 29,
   "metadata": {
    "execution": {
     "iopub.execute_input": "2022-07-22T20:56:48.275852Z",
     "iopub.status.busy": "2022-07-22T20:56:48.275123Z",
     "iopub.status.idle": "2022-07-22T20:56:48.544309Z",
     "shell.execute_reply": "2022-07-22T20:56:48.543506Z",
     "shell.execute_reply.started": "2022-07-22T20:56:48.275815Z"
    }
   },
   "outputs": [
    {
     "data": {
      "image/png": "[encoded data removed]",
      "text/plain": [
       "<Figure size 1080x576 with 1 Axes>"
      ]
     },
     "metadata": {},
     "output_type": "display_data"
    }
   ],
   "source": [
    "y_pred_proba = logreg.predict_proba(X_test)[::,1]\n",
    "fpr, tpr, _ = metrics.roc_curve(y_test,  y_pred_proba)\n",
    "auc = metrics.roc_auc_score(y_test, y_pred_proba)\n",
    "plt.plot(fpr,tpr,label=\"data 1, auc=\"+str(auc))\n",
    "plt.legend(loc=4)\n",
    "plt.show()"
   ]
  },
  {
   "cell_type": "code",
   "execution_count": null,
   "metadata": {},
   "outputs": [],
   "source": [
    "n_splits=5\n",
    "\n",
    "params_dict={\n",
    "    'C':2,\n",
    "    'kernel':'rbf',\n",
    "    'gamma':0.005\n",
    "}\n",
    "# Train and test model\n",
    "model_name = 'SVM'\n",
    "cv = KFold(n_splits=n_splits, random_state=42)\n",
    "X_train, X_test, y_train, y_test = train_test_split(X, y, test_size = 0.2, random_state = 42)\n",
    "scores=[]\n",
    "\n",
    "for train_fold_index, val_fold_index in cv.split(X_train, y_train):\n",
    "    X_train_fold, y_train_fold = X_train[train_fold_index], y_train[train_fold_index]\n",
    "    X_val_fold, y_val_fold = X_train[val_fold_index], y_train[val_fold_index]\n",
    "    \n",
    "    # Upsample only the data in the training section\n",
    "    X_train_fold_upsample, y_train_fold_upsample = balanced_sampler(X_train_fold,y_train_fold, random_state=42)\n",
    "    \n",
    "    model = train_model(model_name=model_name, X_train=X_train_fold_upsample, y_train=y_train_fold_upsample, params=params_dict)\n",
    "    # Score the model on the (non-upsampled) validation data\n",
    "    score = metrics.recall_score(y_val_fold, model.predict(X_val_fold))\n",
    "    scores.append(score)\n",
    "\n",
    "print(np.array(scores))\n",
    "# test_acc, test_precision, test_recall, y_pred= test_accuracy(model, X_test=X_test, y_test=y_test)\n",
    "# print(f'Test accuracy for {model_name}: {test_acc}')\n",
    "# print(f'Test precision for {model_name}: {test_precision}')\n",
    "# print(f'Test recall for {model_name}: {test_recall}')\n",
    "\n",
    "# # Confusion matrix plotting\n",
    "# plot_confusion_matrix(y_test=y_test, y_pred=y_pred, classes=[0,1])\n"
   ]
  }
 ],
 "metadata": {
  "kernelspec": {
   "display_name": "Python 3 (ipykernel)",
   "language": "python",
   "name": "python3"
  },
  "language_info": {
   "codemirror_mode": {
    "name": "ipython",
    "version": 3
   },
   "file_extension": ".py",
   "mimetype": "text/x-python",
   "name": "python",
   "nbconvert_exporter": "python",
   "pygments_lexer": "ipython3",
   "version": "3.9.7"
  }
 },
 "nbformat": 4,
 "nbformat_minor": 4
}
